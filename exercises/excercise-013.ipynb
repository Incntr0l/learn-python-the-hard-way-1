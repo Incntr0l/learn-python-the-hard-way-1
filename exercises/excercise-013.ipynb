{
 "cells": [
  {
   "cell_type": "code",
   "execution_count": 1,
   "metadata": {},
   "outputs": [
    {
     "name": "stdout",
     "output_type": "stream",
     "text": [
      "/opt/conda/lib/python3.6/site-packages/ipykernel_launcher.py requires 3 paramenteres\n",
      "Goodbye\n"
     ]
    }
   ],
   "source": [
    "from sys import argv\n",
    "# read the WYSS section for how to run this\n",
    "\n",
    "# if argv list length != 4 then\n",
    "#    error message - argv[0] requires ....\n",
    "# else\n",
    "#    <test inputs>\n",
    "#    <program>\n",
    "\n",
    "#print(\"argument count:\", len(argv))\n",
    "if len(argv) != 4:\n",
    "    print(f\"{argv[0]} requires 3 paramenteres\")\n",
    "else:\n",
    "    #script, first, second, third, fourth = argv\n",
    "    script, first, second, third = argv\n",
    "    #script, first  = argv\n",
    "\n",
    "    print(\"The script is called:\", script)\n",
    "    print(\"Your first variable is:\", first)\n",
    "    print(\"Your second variable is:\", second)\n",
    "    print(\"Your thid variable is:\", third)\n",
    "\n",
    "print(\"Goodbye\")"
   ]
  },
  {
   "cell_type": "code",
   "execution_count": null,
   "metadata": {
    "collapsed": true
   },
   "outputs": [],
   "source": []
  }
 ],
 "metadata": {
  "kernelspec": {
   "display_name": "Python 3",
   "language": "python",
   "name": "python3"
  },
  "language_info": {
   "codemirror_mode": {
    "name": "ipython",
    "version": 3
   },
   "file_extension": ".py",
   "mimetype": "text/x-python",
   "name": "python",
   "nbconvert_exporter": "python",
   "pygments_lexer": "ipython3",
   "version": "3.6.1"
  }
 },
 "nbformat": 4,
 "nbformat_minor": 2
}
