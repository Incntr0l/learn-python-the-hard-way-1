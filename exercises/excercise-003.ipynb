{
 "cells": [
  {
   "cell_type": "code",
   "execution_count": 1,
   "metadata": {},
   "outputs": [
    {
     "name": "stdout",
     "output_type": "stream",
     "text": [
      "I will now count my chickens:\n",
      "Hens 30.0\n",
      "Roosters 97\n",
      "Now I will count the eggs:\n",
      "6.75\n",
      "Is it true that 3 + 2 < 5 - 7?\n",
      "False\n",
      "What is 3 + 2? 5\n",
      "What is 5 - 7? -2\n",
      "Oh, that's why it's False.\n",
      "How about some more.\n",
      "Is it greater? True\n",
      "Is it greater or equal? True\n",
      "Is it less or equal? False\n"
     ]
    }
   ],
   "source": [
    "print(\"I will now count my chickens:\")\n",
    "\n",
    "# 30 / 6 = 5; + 25 = 30\n",
    "print(\"Hens\", 25 + 30 / 6)\n",
    "\n",
    "# (100 - ((25 * 3) % 4))\n",
    "print(\"Roosters\", 100 - 25 * 3 % 4)\n",
    "\n",
    "print(\"Now I will count the eggs:\")\n",
    "\n",
    "# (( 3 + 2 + 1 -5 )+ (4 % 2) - (1 / 4) + 6 )\n",
    "print(3 + 2 + 1 - 5 + 4 % 2 - 1 / 4 + 6)\n",
    "\n",
    "print(\"Is it true that 3 + 2 < 5 - 7?\")\n",
    "\n",
    "print(3 + 2 < 5 -7)\n",
    "\n",
    "print(\"What is 3 + 2?\", 3 + 2)\n",
    "print(\"What is 5 - 7?\", 5 - 7)\n",
    "\n",
    "print(\"Oh, that's why it's False.\")\n",
    "\n",
    "print(\"How about some more.\")\n",
    "\n",
    "print(\"Is it greater?\", 5 > -2)\n",
    "print(\"Is it greater or equal?\", 5 >= -2)\n",
    "print(\"Is it less or equal?\", 5 <= -2)"
   ]
  },
  {
   "cell_type": "code",
   "execution_count": 2,
   "metadata": {},
   "outputs": [
    {
     "name": "stdout",
     "output_type": "stream",
     "text": [
      "I will now count my chickens:\n",
      "Hens 30.0\n",
      "Roosters 97.0\n",
      "Now I will count the eggs:\n",
      "6.75\n",
      "Is it true that 3.0 + 2.0 < 5.0 - 7.0?\n",
      "False\n",
      "What is 3.0 + 2.0? 5.0\n",
      "What is 5.0 - 7.0? -2.0\n",
      "Oh, that's why it's False.\n",
      "How about some more.\n",
      "Is it greater? True\n",
      "Is it greater or equal? True\n",
      "Is it less or equal? False\n"
     ]
    }
   ],
   "source": [
    "# Order of operation\n",
    "# PEMDAS\n",
    "# - Parentheses\n",
    "# - Exponenets\n",
    "# - Multiplication\n",
    "# - Division\n",
    "# - Addition\n",
    "# - Subtraction\n",
    "\n",
    "print(\"I will now count my chickens:\")\n",
    "\n",
    "# 30 / 6 = 5; + 25 = 30\n",
    "print(\"Hens\", 25.0 + 30.0 / 6.0)\n",
    "\n",
    "# (100 - ((25 * 3) % 4))\n",
    "print(\"Roosters\", 100.0 - 25.0 * 3.0 % 4.0)\n",
    "\n",
    "print(\"Now I will count the eggs:\")\n",
    "\n",
    "# (( 3 + 2 + 1 -5 )+ (4 % 2) - (1 / 4) + 6 )\n",
    "print(3.0 + 2.0 + 1.0 - 5.0 + 4.0 % 2.0 - 1.0 / 4.0 + 6.0)\n",
    "\n",
    "print(\"Is it true that 3.0 + 2.0 < 5.0 - 7.0?\")\n",
    "\n",
    "print(3.0 + 2.0 < 5.0 -7.0)\n",
    "\n",
    "print(\"What is 3.0 + 2.0?\", 3.0 + 2.0)\n",
    "print(\"What is 5.0 - 7.0?\", 5.0 - 7.0)\n",
    "\n",
    "print(\"Oh, that's why it's False.\")\n",
    "\n",
    "print(\"How about some more.\")\n",
    "\n",
    "print(\"Is it greater?\", 5.0 > -2.0)\n",
    "print(\"Is it greater or equal?\", 5.0 >= -2.0)\n",
    "print(\"Is it less or equal?\", 5.0 <= -2.0)"
   ]
  },
  {
   "cell_type": "code",
   "execution_count": null,
   "metadata": {
    "collapsed": true
   },
   "outputs": [],
   "source": []
  }
 ],
 "metadata": {
  "kernelspec": {
   "display_name": "Python 3",
   "language": "python",
   "name": "python3"
  },
  "language_info": {
   "codemirror_mode": {
    "name": "ipython",
    "version": 3
   },
   "file_extension": ".py",
   "mimetype": "text/x-python",
   "name": "python",
   "nbconvert_exporter": "python",
   "pygments_lexer": "ipython3",
   "version": "3.6.1"
  }
 },
 "nbformat": 4,
 "nbformat_minor": 2
}
